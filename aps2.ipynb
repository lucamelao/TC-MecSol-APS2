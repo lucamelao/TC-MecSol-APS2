{
 "cells": [
  {
   "cell_type": "code",
   "execution_count": 4,
   "metadata": {},
   "outputs": [],
   "source": [
    "from math import *\n",
    "import numpy as np\n",
    "import matplotlib.pyplot as plt\n"
   ]
  },
  {
   "cell_type": "code",
   "execution_count": 5,
   "metadata": {},
   "outputs": [],
   "source": [
    "# Tolerância \n",
    "tol = 1e-10\n",
    "\n",
    "# Comprimento da aleta (m)\n",
    "L = 300e-3\n",
    "\n",
    "# Densidade (kg/mˆ3)\n",
    "d = 2700\n",
    "\n",
    "# Condutividade térmica (W/(mK))\n",
    "k = 180\n",
    "\n",
    "# Calor específico (J/(kgK))\n",
    "c = 896\n",
    "\n",
    "# Temperatura na extremidade\n",
    "Text = 25\n",
    "\n",
    "# Temperatura da base\n",
    "Tb = 100\n",
    "\n",
    "# Ambiente \n",
    "Tinf = 50\n",
    "\n",
    "# W/mˆK\n",
    "h = 50\n",
    "\n",
    "a = k/(d*c)\n",
    "\n",
    "r = 0.1 \n",
    "\n",
    "p = 2 * pi * r    \n",
    "Atr = pi * r**2 \n",
    "\n",
    "dx=0.01\n",
    "\n",
    "nx = int(L/dx)\n",
    "#C\n",
    "ct = (h*p/k*Atr)*(Text-Tinf)"
   ]
  },
  {
   "cell_type": "code",
   "execution_count": 12,
   "metadata": {},
   "outputs": [
    {
     "data": {
      "image/png": "[encoded data removed]",
      "text/plain": [
       "<Figure size 432x288 with 1 Axes>"
      ]
     },
     "metadata": {
      "needs_background": "light"
     },
     "output_type": "display_data"
    }
   ],
   "source": [
    "#ANALITICAL \n",
    "\n",
    "def calculate_theta(Ts,Ta):\n",
    "    return Ts - Ta\n",
    "\n",
    "def calculate_m(h,P,k,A):\n",
    "    return sqrt((h*P)/(k*A))\n",
    "\n",
    "def calculate_M(h,P,A,k,theta):\n",
    "    return sqrt(h*P*A*k) * theta\n",
    "\n",
    "def fin_heat_transfer(M,m,L,h,k):\n",
    "\n",
    "    num= sinh(m*L) + (h/(m*k)) * cosh(m*L)\n",
    "\n",
    "    den= cosh(m*L) + (h/(m*k)) * sinh(m*L)\n",
    "\n",
    "    return M * (num/den)\n",
    "\n",
    "\n",
    "def fin_temp_distribution(m,L,h,k,x):\n",
    "\n",
    "    num = cosh(m*(L-x)) + (h/(m*k)) * sinh(m*(L-x))\n",
    "\n",
    "    den = cosh(m*L) + (h/(m*k)) * sinh(m*L)\n",
    "\n",
    "    return (num/den)\n",
    "\n",
    "def effectiveness(qa,h,Ab,theta):\n",
    "\n",
    "    return qa/(h*Ab*theta)\n",
    "\n",
    "def efficiency(qa,h,As,theta):\n",
    "\n",
    "    return qa/(h*As*theta)\n",
    "\n",
    "def temperature(tamb, text, temp_distrib):\n",
    "    return temp_distrib*(text - tamb) + tamb\n",
    "\n",
    "result_analitical=[]\n",
    "\n",
    "lista=np.arange(0,L,1e-3)\n",
    "\n",
    "m=calculate_m(h,p,k,Atr)\n",
    "\n",
    "theta=calculate_theta(Text,Tinf)\n",
    "\n",
    "M=calculate_M(h,p,Atr,k,theta)\n",
    "\n",
    "for values in lista:\n",
    "    t=temperature(Tinf,Text,fin_temp_distribution(m,L,h,k,values))\n",
    "    result_analitical.append(t)\n",
    "\n",
    "result_analitical[0]=100\n",
    "result_analitical[-1]=25\n",
    "\n",
    "plt.plot(lista,result_analitical)\n",
    "plt.xlabel(\"Comprimento da Aleta em m\")\n",
    "plt.ylabel(\"Temperaturas em Graus Celsius\")\n",
    "plt.title(\"Grau Celsius X Comprimento [m]\")\n",
    "plt.grid()\n",
    "plt.show()"
   ]
  },
  {
   "cell_type": "code",
   "execution_count": null,
   "metadata": {},
   "outputs": [],
   "source": []
  }
 ],
 "metadata": {
  "interpreter": {
   "hash": "916dbcbb3f70747c44a77c7bcd40155683ae19c65e1c03b4aa3499c5328201f1"
  },
  "kernelspec": {
   "display_name": "Python 3.8.10 64-bit",
   "language": "python",
   "name": "python3"
  },
  "language_info": {
   "codemirror_mode": {
    "name": "ipython",
    "version": 3
   },
   "file_extension": ".py",
   "mimetype": "text/x-python",
   "name": "python",
   "nbconvert_exporter": "python",
   "pygments_lexer": "ipython3",
   "version": "3.8.10"
  },
  "orig_nbformat": 4
 },
 "nbformat": 4,
 "nbformat_minor": 2
}
